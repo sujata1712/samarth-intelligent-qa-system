{
 "cells": [
  {
   "cell_type": "markdown",
   "id": "445c18b8-7a37-41a7-a00d-be554268ca6e",
   "metadata": {},
   "source": [
    "# Project Samarth - Intelligent Q&A System Prototype"
   ]
  },
  {
   "cell_type": "markdown",
   "id": "d685269f-627d-4c23-82ec-4319fcb2ad8a",
   "metadata": {},
   "source": [
    "## Project Description\n",
    "    Project Samarth is an intelligent Question & Answer (Q&A) system designed to make government data actionable and insightful for policymakers, researchers, and the general public."
   ]
  },
  {
   "cell_type": "markdown",
   "id": "0a1e43c9-79b6-4626-8685-ffbdca19d236",
   "metadata": {},
   "source": [
    "## Library Imports"
   ]
  },
  {
   "cell_type": "code",
   "execution_count": 31,
   "id": "5d18678e-214f-4106-854c-5df437c11eab",
   "metadata": {},
   "outputs": [],
   "source": [
    "import pandas as pd\n",
    "import numpy as np\n",
    "import re\n",
    "from scipy.stats import pearsonr\n",
    "import matplotlib.pyplot as plt\n",
    "import seaborn as sns\n",
    "from IPython.display import display"
   ]
  },
  {
   "cell_type": "markdown",
   "id": "75513350-91de-492c-ab84-bedd0c86ff2c",
   "metadata": {},
   "source": [
    "## Data Loading"
   ]
  },
  {
   "cell_type": "code",
   "execution_count": 3,
   "id": "f6c6b3af-9e86-411a-9974-4be98216704a",
   "metadata": {},
   "outputs": [],
   "source": [
    "rainfall_df = pd.read_csv('rainfall_districts.csv')\n",
    "crop_df = pd.read_csv('crop_production.csv')"
   ]
  },
  {
   "cell_type": "code",
   "execution_count": 4,
   "id": "57116325-d075-4058-92fd-4bc5ffa49a8a",
   "metadata": {},
   "outputs": [
    {
     "name": "stdout",
     "output_type": "stream",
     "text": [
      "Rainfall data:\n",
      "\n"
     ]
    },
    {
     "data": {
      "text/html": [
       "<div>\n",
       "<style scoped>\n",
       "    .dataframe tbody tr th:only-of-type {\n",
       "        vertical-align: middle;\n",
       "    }\n",
       "\n",
       "    .dataframe tbody tr th {\n",
       "        vertical-align: top;\n",
       "    }\n",
       "\n",
       "    .dataframe thead th {\n",
       "        text-align: right;\n",
       "    }\n",
       "</style>\n",
       "<table border=\"1\" class=\"dataframe\">\n",
       "  <thead>\n",
       "    <tr style=\"text-align: right;\">\n",
       "      <th></th>\n",
       "      <th>S.No</th>\n",
       "      <th>District</th>\n",
       "      <th>Actual Rainfall in South West Monsoon (June'2018 to September'2018) in mm</th>\n",
       "      <th>Normal Rainfall in South West Monsoon (June'2018 to September'2018) in mm</th>\n",
       "      <th>Actual Rainfall in North East Monsoon (October'2018 to December'2018) in mm</th>\n",
       "      <th>Normal Rainfall in North East Monsoon (October'2018 to December'2018) in mm</th>\n",
       "      <th>Actual Rainfall in Winter Season (January'2019 to February'2019) in mm</th>\n",
       "      <th>Normal Rainfall in Winter Season (January'2019 to February'2019) in mm</th>\n",
       "      <th>Actual Rainfall in Hot Weather Season (March'2019 to May'2019) in mm</th>\n",
       "      <th>Normal Rainfall in Hot Weather Season (March'2019 to May'2019) in mm</th>\n",
       "      <th>Total Actual Rainfall (June'2018 to May'2019) in mm</th>\n",
       "      <th>Total Normal Rainfall (June'2018 to May'2019) in mm</th>\n",
       "    </tr>\n",
       "  </thead>\n",
       "  <tbody>\n",
       "    <tr>\n",
       "      <th>0</th>\n",
       "      <td>1</td>\n",
       "      <td>Chennai</td>\n",
       "      <td>395.3</td>\n",
       "      <td>439.1</td>\n",
       "      <td>352.9</td>\n",
       "      <td>789.9</td>\n",
       "      <td>1.6</td>\n",
       "      <td>36.7</td>\n",
       "      <td>0.0</td>\n",
       "      <td>58.5</td>\n",
       "      <td>749.8</td>\n",
       "      <td>1324.2</td>\n",
       "    </tr>\n",
       "    <tr>\n",
       "      <th>1</th>\n",
       "      <td>2</td>\n",
       "      <td>Kancheepuram</td>\n",
       "      <td>397.0</td>\n",
       "      <td>490.8</td>\n",
       "      <td>417.1</td>\n",
       "      <td>641.8</td>\n",
       "      <td>0.5</td>\n",
       "      <td>29.1</td>\n",
       "      <td>8.4</td>\n",
       "      <td>66.0</td>\n",
       "      <td>823.0</td>\n",
       "      <td>1227.7</td>\n",
       "    </tr>\n",
       "    <tr>\n",
       "      <th>2</th>\n",
       "      <td>3</td>\n",
       "      <td>Tiruvallur</td>\n",
       "      <td>364.3</td>\n",
       "      <td>451.6</td>\n",
       "      <td>343.2</td>\n",
       "      <td>589.3</td>\n",
       "      <td>0.5</td>\n",
       "      <td>31.5</td>\n",
       "      <td>9.5</td>\n",
       "      <td>67.2</td>\n",
       "      <td>717.5</td>\n",
       "      <td>1139.6</td>\n",
       "    </tr>\n",
       "    <tr>\n",
       "      <th>3</th>\n",
       "      <td>4</td>\n",
       "      <td>Cuddalore</td>\n",
       "      <td>274.6</td>\n",
       "      <td>383.1</td>\n",
       "      <td>621.0</td>\n",
       "      <td>697.8</td>\n",
       "      <td>2.2</td>\n",
       "      <td>44.1</td>\n",
       "      <td>5.6</td>\n",
       "      <td>81.7</td>\n",
       "      <td>903.4</td>\n",
       "      <td>1206.7</td>\n",
       "    </tr>\n",
       "    <tr>\n",
       "      <th>4</th>\n",
       "      <td>5</td>\n",
       "      <td>Villupuram</td>\n",
       "      <td>257.1</td>\n",
       "      <td>408.3</td>\n",
       "      <td>435.9</td>\n",
       "      <td>499.1</td>\n",
       "      <td>0.0</td>\n",
       "      <td>28.2</td>\n",
       "      <td>22.5</td>\n",
       "      <td>76.0</td>\n",
       "      <td>715.5</td>\n",
       "      <td>1011.6</td>\n",
       "    </tr>\n",
       "  </tbody>\n",
       "</table>\n",
       "</div>"
      ],
      "text/plain": [
       "  S.No      District  \\\n",
       "0    1       Chennai   \n",
       "1    2  Kancheepuram   \n",
       "2    3    Tiruvallur   \n",
       "3    4     Cuddalore   \n",
       "4    5    Villupuram   \n",
       "\n",
       "   Actual Rainfall in South West Monsoon (June'2018 to September'2018) in mm  \\\n",
       "0                                              395.3                           \n",
       "1                                              397.0                           \n",
       "2                                              364.3                           \n",
       "3                                              274.6                           \n",
       "4                                              257.1                           \n",
       "\n",
       "   Normal Rainfall in South West Monsoon (June'2018 to September'2018) in mm  \\\n",
       "0                                              439.1                           \n",
       "1                                              490.8                           \n",
       "2                                              451.6                           \n",
       "3                                              383.1                           \n",
       "4                                              408.3                           \n",
       "\n",
       "   Actual Rainfall in North East Monsoon (October'2018 to December'2018) in mm  \\\n",
       "0                                              352.9                             \n",
       "1                                              417.1                             \n",
       "2                                              343.2                             \n",
       "3                                              621.0                             \n",
       "4                                              435.9                             \n",
       "\n",
       "   Normal Rainfall in North East Monsoon (October'2018 to December'2018) in mm  \\\n",
       "0                                              789.9                             \n",
       "1                                              641.8                             \n",
       "2                                              589.3                             \n",
       "3                                              697.8                             \n",
       "4                                              499.1                             \n",
       "\n",
       "   Actual Rainfall in Winter Season (January'2019 to February'2019) in mm  \\\n",
       "0                                                1.6                        \n",
       "1                                                0.5                        \n",
       "2                                                0.5                        \n",
       "3                                                2.2                        \n",
       "4                                                0.0                        \n",
       "\n",
       "   Normal Rainfall in Winter Season (January'2019 to February'2019) in mm  \\\n",
       "0                                               36.7                        \n",
       "1                                               29.1                        \n",
       "2                                               31.5                        \n",
       "3                                               44.1                        \n",
       "4                                               28.2                        \n",
       "\n",
       "   Actual Rainfall in Hot Weather Season (March'2019 to May'2019) in mm  \\\n",
       "0                                                0.0                      \n",
       "1                                                8.4                      \n",
       "2                                                9.5                      \n",
       "3                                                5.6                      \n",
       "4                                               22.5                      \n",
       "\n",
       "   Normal Rainfall in Hot Weather Season (March'2019 to May'2019) in mm  \\\n",
       "0                                               58.5                      \n",
       "1                                               66.0                      \n",
       "2                                               67.2                      \n",
       "3                                               81.7                      \n",
       "4                                               76.0                      \n",
       "\n",
       "   Total Actual Rainfall (June'2018 to May'2019) in mm  \\\n",
       "0                                              749.8     \n",
       "1                                              823.0     \n",
       "2                                              717.5     \n",
       "3                                              903.4     \n",
       "4                                              715.5     \n",
       "\n",
       "   Total Normal Rainfall (June'2018 to May'2019) in mm  \n",
       "0                                             1324.2    \n",
       "1                                             1227.7    \n",
       "2                                             1139.6    \n",
       "3                                             1206.7    \n",
       "4                                             1011.6    "
      ]
     },
     "execution_count": 4,
     "metadata": {},
     "output_type": "execute_result"
    }
   ],
   "source": [
    "print(\"Rainfall data:\\n\")\n",
    "rainfall_df.head()"
   ]
  },
  {
   "cell_type": "code",
   "execution_count": 5,
   "id": "4c770054-7b8d-4cbe-a0a5-b6ce1d4ec9ad",
   "metadata": {},
   "outputs": [
    {
     "name": "stdout",
     "output_type": "stream",
     "text": [
      "Crop data:\n",
      "\n"
     ]
    },
    {
     "data": {
      "text/html": [
       "<div>\n",
       "<style scoped>\n",
       "    .dataframe tbody tr th:only-of-type {\n",
       "        vertical-align: middle;\n",
       "    }\n",
       "\n",
       "    .dataframe tbody tr th {\n",
       "        vertical-align: top;\n",
       "    }\n",
       "\n",
       "    .dataframe thead th {\n",
       "        text-align: right;\n",
       "    }\n",
       "</style>\n",
       "<table border=\"1\" class=\"dataframe\">\n",
       "  <thead>\n",
       "    <tr style=\"text-align: right;\">\n",
       "      <th></th>\n",
       "      <th>SlNo</th>\n",
       "      <th>District Name</th>\n",
       "      <th>Kharif_AreaBefore bund correction factor</th>\n",
       "      <th>Kharif_AreaAfter bund correction factor</th>\n",
       "      <th>Kharif_Yield</th>\n",
       "      <th>Kharif_Production</th>\n",
       "      <th>Rabi_AreaBefore bund correction factor</th>\n",
       "      <th>Rabi_AreaAfter bund correction factor</th>\n",
       "      <th>Rabi_Yield</th>\n",
       "      <th>Rabi_Production</th>\n",
       "      <th>Summer_AreaBefore bund correction factor</th>\n",
       "      <th>Summer_AreaAfter bund correction factor</th>\n",
       "      <th>Summer_Yield</th>\n",
       "      <th>Summer_Production</th>\n",
       "      <th>All Seasons_AreaBefore bund correction factor</th>\n",
       "      <th>All Seasons_AreaAfter bund correction factor</th>\n",
       "      <th>All Seasons_Yield</th>\n",
       "      <th>All Seasons_Production</th>\n",
       "    </tr>\n",
       "  </thead>\n",
       "  <tbody>\n",
       "    <tr>\n",
       "      <th>0</th>\n",
       "      <td>1.0</td>\n",
       "      <td>BAGALKOTE</td>\n",
       "      <td>35</td>\n",
       "      <td>34</td>\n",
       "      <td>2774</td>\n",
       "      <td>95</td>\n",
       "      <td>0</td>\n",
       "      <td>0</td>\n",
       "      <td>0</td>\n",
       "      <td>0</td>\n",
       "      <td>3</td>\n",
       "      <td>3</td>\n",
       "      <td>3079</td>\n",
       "      <td>9</td>\n",
       "      <td>38</td>\n",
       "      <td>37</td>\n",
       "      <td>2798</td>\n",
       "      <td>104</td>\n",
       "    </tr>\n",
       "    <tr>\n",
       "      <th>1</th>\n",
       "      <td>2.0</td>\n",
       "      <td>BENGALURU - URBAN</td>\n",
       "      <td>202</td>\n",
       "      <td>198</td>\n",
       "      <td>2829</td>\n",
       "      <td>560</td>\n",
       "      <td>0</td>\n",
       "      <td>0</td>\n",
       "      <td>0</td>\n",
       "      <td>0</td>\n",
       "      <td>74</td>\n",
       "      <td>73</td>\n",
       "      <td>3079</td>\n",
       "      <td>223</td>\n",
       "      <td>276</td>\n",
       "      <td>270</td>\n",
       "      <td>2896</td>\n",
       "      <td>783</td>\n",
       "    </tr>\n",
       "    <tr>\n",
       "      <th>2</th>\n",
       "      <td>3.0</td>\n",
       "      <td>BENGALURU - RURAL</td>\n",
       "      <td>162</td>\n",
       "      <td>159</td>\n",
       "      <td>2249</td>\n",
       "      <td>357</td>\n",
       "      <td>0</td>\n",
       "      <td>0</td>\n",
       "      <td>0</td>\n",
       "      <td>0</td>\n",
       "      <td>31</td>\n",
       "      <td>30</td>\n",
       "      <td>3079</td>\n",
       "      <td>94</td>\n",
       "      <td>193</td>\n",
       "      <td>189</td>\n",
       "      <td>2382</td>\n",
       "      <td>451</td>\n",
       "    </tr>\n",
       "    <tr>\n",
       "      <th>3</th>\n",
       "      <td>4.0</td>\n",
       "      <td>BELAGAVI</td>\n",
       "      <td>57100</td>\n",
       "      <td>55958</td>\n",
       "      <td>3097</td>\n",
       "      <td>173302</td>\n",
       "      <td>0</td>\n",
       "      <td>0</td>\n",
       "      <td>0</td>\n",
       "      <td>0</td>\n",
       "      <td>173</td>\n",
       "      <td>170</td>\n",
       "      <td>3079</td>\n",
       "      <td>522</td>\n",
       "      <td>57273</td>\n",
       "      <td>56128</td>\n",
       "      <td>3097</td>\n",
       "      <td>173824</td>\n",
       "    </tr>\n",
       "    <tr>\n",
       "      <th>4</th>\n",
       "      <td>5.0</td>\n",
       "      <td>BALLARI</td>\n",
       "      <td>105169</td>\n",
       "      <td>103066</td>\n",
       "      <td>3904</td>\n",
       "      <td>402363</td>\n",
       "      <td>0</td>\n",
       "      <td>0</td>\n",
       "      <td>0</td>\n",
       "      <td>0</td>\n",
       "      <td>75422</td>\n",
       "      <td>73914</td>\n",
       "      <td>3553</td>\n",
       "      <td>262623</td>\n",
       "      <td>180591</td>\n",
       "      <td>176979</td>\n",
       "      <td>3757</td>\n",
       "      <td>664986</td>\n",
       "    </tr>\n",
       "  </tbody>\n",
       "</table>\n",
       "</div>"
      ],
      "text/plain": [
       "   SlNo      District Name  Kharif_AreaBefore bund correction factor  \\\n",
       "0   1.0          BAGALKOTE                                        35   \n",
       "1   2.0  BENGALURU - URBAN                                       202   \n",
       "2   3.0  BENGALURU - RURAL                                       162   \n",
       "3   4.0           BELAGAVI                                     57100   \n",
       "4   5.0            BALLARI                                    105169   \n",
       "\n",
       "   Kharif_AreaAfter bund correction factor  Kharif_Yield  Kharif_Production  \\\n",
       "0                                       34          2774                 95   \n",
       "1                                      198          2829                560   \n",
       "2                                      159          2249                357   \n",
       "3                                    55958          3097             173302   \n",
       "4                                   103066          3904             402363   \n",
       "\n",
       "   Rabi_AreaBefore bund correction factor  \\\n",
       "0                                       0   \n",
       "1                                       0   \n",
       "2                                       0   \n",
       "3                                       0   \n",
       "4                                       0   \n",
       "\n",
       "   Rabi_AreaAfter bund correction factor  Rabi_Yield  Rabi_Production  \\\n",
       "0                                      0           0                0   \n",
       "1                                      0           0                0   \n",
       "2                                      0           0                0   \n",
       "3                                      0           0                0   \n",
       "4                                      0           0                0   \n",
       "\n",
       "   Summer_AreaBefore bund correction factor  \\\n",
       "0                                         3   \n",
       "1                                        74   \n",
       "2                                        31   \n",
       "3                                       173   \n",
       "4                                     75422   \n",
       "\n",
       "   Summer_AreaAfter bund correction factor  Summer_Yield  Summer_Production  \\\n",
       "0                                        3          3079                  9   \n",
       "1                                       73          3079                223   \n",
       "2                                       30          3079                 94   \n",
       "3                                      170          3079                522   \n",
       "4                                    73914          3553             262623   \n",
       "\n",
       "   All Seasons_AreaBefore bund correction factor  \\\n",
       "0                                             38   \n",
       "1                                            276   \n",
       "2                                            193   \n",
       "3                                          57273   \n",
       "4                                         180591   \n",
       "\n",
       "   All Seasons_AreaAfter bund correction factor  All Seasons_Yield  \\\n",
       "0                                            37               2798   \n",
       "1                                           270               2896   \n",
       "2                                           189               2382   \n",
       "3                                         56128               3097   \n",
       "4                                        176979               3757   \n",
       "\n",
       "   All Seasons_Production  \n",
       "0                     104  \n",
       "1                     783  \n",
       "2                     451  \n",
       "3                  173824  \n",
       "4                  664986  "
      ]
     },
     "execution_count": 5,
     "metadata": {},
     "output_type": "execute_result"
    }
   ],
   "source": [
    "print(\"Crop data:\\n\")\n",
    "crop_df.head()"
   ]
  },
  {
   "cell_type": "markdown",
   "id": "28335852-aa23-4466-a893-66165e55da29",
   "metadata": {},
   "source": [
    "## Data Cleaning & Preparation"
   ]
  },
  {
   "cell_type": "markdown",
   "id": "326aec93-d02c-4992-b94a-ccce2caa4f94",
   "metadata": {},
   "source": [
    "### Standardize column names"
   ]
  },
  {
   "cell_type": "code",
   "execution_count": 6,
   "id": "1ea3bdd7-a453-40ea-9bae-c58f6f287be4",
   "metadata": {},
   "outputs": [
    {
     "name": "stdout",
     "output_type": "stream",
     "text": [
      "Index(['S.No', 'District',\n",
      "       'Actual_Rainfall_in_South_West_Monsoon_June2018_to_September2018_in_mm',\n",
      "       'Normal_Rainfall_in_South_West_Monsoon_June2018_to_September2018_in_mm',\n",
      "       'Actual_Rainfall_in_North_East_Monsoon_October2018_to_December2018_in_mm',\n",
      "       'Normal_Rainfall_in_North_East_Monsoon_October2018_to_December2018_in_mm',\n",
      "       'Actual_Rainfall_in_Winter_Season_January2019_to_February2019_in_mm',\n",
      "       'Normal_Rainfall_in_Winter_Season_January2019_to_February2019_in_mm',\n",
      "       'Actual_Rainfall_in_Hot_Weather_Season_March2019_to_May2019_in_mm',\n",
      "       'Normal_Rainfall_in_Hot_Weather_Season_March2019_to_May2019_in_mm',\n",
      "       'Total_Actual_Rainfall_June2018_to_May2019_in_mm',\n",
      "       'Total_Normal_Rainfall_June2018_to_May2019_in_mm'],\n",
      "      dtype='object')\n"
     ]
    }
   ],
   "source": [
    "# Clean rainfall columns\n",
    "rainfall_df.columns = rainfall_df.columns.str.strip().str.replace(' ', '_').str.replace(r\"[\\(\\)'’]\", '', regex=True)\n",
    "print(rainfall_df.columns)"
   ]
  },
  {
   "cell_type": "code",
   "execution_count": 7,
   "id": "e8355990-16bb-43d9-b584-5460ab9c0e30",
   "metadata": {},
   "outputs": [
    {
     "name": "stdout",
     "output_type": "stream",
     "text": [
      "Index(['SlNo', 'District_Name', 'Kharif_AreaBefore_bund_correction_factor',\n",
      "       'Kharif_AreaAfter_bund_correction_factor', 'Kharif_Yield',\n",
      "       'Kharif_Production', 'Rabi_AreaBefore_bund_correction_factor',\n",
      "       'Rabi_AreaAfter_bund_correction_factor', 'Rabi_Yield',\n",
      "       'Rabi_Production', 'Summer_AreaBefore_bund_correction_factor',\n",
      "       'Summer_AreaAfter_bund_correction_factor', 'Summer_Yield',\n",
      "       'Summer_Production', 'All_Seasons_AreaBefore_bund_correction_factor',\n",
      "       'All_Seasons_AreaAfter_bund_correction_factor', 'All_Seasons_Yield',\n",
      "       'All_Seasons_Production'],\n",
      "      dtype='object')\n"
     ]
    }
   ],
   "source": [
    "crop_df.columns = crop_df.columns.str.strip().str.replace(' ', '_').str.replace(r\"[\\(\\)'’]\", '', regex=True)\n",
    "print(crop_df.columns)"
   ]
  },
  {
   "cell_type": "markdown",
   "id": "6bddc52c-601e-4cb0-9f52-948a6f6342e8",
   "metadata": {},
   "source": [
    "### Normalize district names"
   ]
  },
  {
   "cell_type": "code",
   "execution_count": 8,
   "id": "5f103a25-caed-481e-9a0b-fd4c751a031e",
   "metadata": {},
   "outputs": [],
   "source": [
    "rainfall_df['District'] = rainfall_df['District'].str.strip().str.title()"
   ]
  },
  {
   "cell_type": "code",
   "execution_count": 9,
   "id": "aa05f04b-1a42-47b2-9cf5-689d051b4acd",
   "metadata": {},
   "outputs": [],
   "source": [
    "crop_df['District_Name'] = crop_df['District_Name'].str.strip().str.title()"
   ]
  },
  {
   "cell_type": "markdown",
   "id": "22b8fc58-1b5e-420d-879d-aa339f970c4b",
   "metadata": {},
   "source": [
    "### Convert numeric columns"
   ]
  },
  {
   "cell_type": "code",
   "execution_count": 10,
   "id": "3e0aed36-675b-4829-b54d-3c8401af30f9",
   "metadata": {},
   "outputs": [],
   "source": [
    "rainfall_numeric_cols = rainfall_df.columns.difference(['S.No', 'District'])\n",
    "crop_numeric_cols = crop_df.columns.difference(['SlNo', 'District_Name'])"
   ]
  },
  {
   "cell_type": "code",
   "execution_count": 11,
   "id": "a0c0846e-eb93-454d-8518-cc2b78b7dbab",
   "metadata": {},
   "outputs": [],
   "source": [
    "rainfall_df[rainfall_numeric_cols] = rainfall_df[rainfall_numeric_cols].apply(pd.to_numeric, errors='coerce')\n",
    "crop_df[crop_numeric_cols] = crop_df[crop_numeric_cols].apply(pd.to_numeric, errors='coerce')"
   ]
  },
  {
   "cell_type": "code",
   "execution_count": 12,
   "id": "a54b0d58-5180-4b20-890e-5af61b6212e6",
   "metadata": {},
   "outputs": [
    {
     "name": "stdout",
     "output_type": "stream",
     "text": [
      "Cleaned Rainfall Rows: 33, Crop Rows: 31\n"
     ]
    }
   ],
   "source": [
    "print(f\"Cleaned Rainfall Rows: {len(rainfall_df)}, Crop Rows: {len(crop_df)}\")"
   ]
  },
  {
   "cell_type": "markdown",
   "id": "05af6b68-0815-45fc-99d0-d29a4ceb6a29",
   "metadata": {},
   "source": [
    "### Unique rows"
   ]
  },
  {
   "cell_type": "code",
   "execution_count": 15,
   "id": "c78c885d-51f2-446d-8f0d-b24fe08e06cd",
   "metadata": {},
   "outputs": [
    {
     "name": "stdout",
     "output_type": "stream",
     "text": [
      "Unique Districts in Rainfall Data: ['Chennai' 'Kancheepuram' 'Tiruvallur' 'Cuddalore' 'Villupuram' 'Vellore'\n",
      " 'Tiruvannamalai' 'Salem' 'Namakkal' 'Dharmapuri' 'Krishnagiri' 'Tiruppur'\n",
      " 'Coimbatore' 'Erode' 'Tiruchirappalli' 'Karur' 'Perambalur' 'Pudukkottai'\n",
      " 'Thanjavur' 'Tiruvarur' 'Nagapattinam' 'Madurai' 'Theni' 'Dindigul'\n",
      " 'Ramanathapuram' 'Virudhunagar' 'Sivaganga' 'Tirunelveli' 'Thoothukkudi'\n",
      " 'The Nilgiris' 'Ariyalur' 'Kanniyakumari' 'State Average']\n",
      "Unique Districts in Crop Data: ['Bagalkote' 'Bengaluru - Urban' 'Bengaluru - Rural' 'Belagavi' 'Ballari'\n",
      " 'Bidar' 'Vijayapura' 'Chamarajanagar' 'Chickballapur' 'Chikmagalur'\n",
      " 'Chitradurga' 'Dakshina Kannada' 'Davanagere' 'Dharwad' 'Gadag'\n",
      " 'Kalburgi' 'Hassan' 'Haveri' 'Kodagu' 'Kolar' 'Koppal' 'Mandya' 'Mysuru'\n",
      " 'Raichur' 'Ramanagaram' 'Shivamogga' 'Tumakuru' 'Udupi' 'Uttara Kannada'\n",
      " 'Yadgir' 'State Total']\n"
     ]
    }
   ],
   "source": [
    "print(\"Unique Districts in Rainfall Data:\", rainfall_df['District'].unique())\n",
    "print(\"Unique Districts in Crop Data:\", crop_df['District_Name'].unique())"
   ]
  },
  {
   "cell_type": "markdown",
   "id": "83b18316-774f-491b-9e60-10ada04c581c",
   "metadata": {},
   "source": [
    "### Merge on district name"
   ]
  },
  {
   "cell_type": "code",
   "execution_count": 13,
   "id": "aa0a0e31-03c1-4114-a2bd-9c8be30d5750",
   "metadata": {},
   "outputs": [],
   "source": [
    "merged_df = pd.merge(rainfall_df,crop_df, left_on='District',right_on='District_Name',how='inner')"
   ]
  },
  {
   "cell_type": "code",
   "execution_count": 14,
   "id": "e4d5f1a0-8c20-4488-93d8-50237975c419",
   "metadata": {},
   "outputs": [
    {
     "name": "stdout",
     "output_type": "stream",
     "text": [
      "Merged Data Sample:\n"
     ]
    },
    {
     "data": {
      "text/html": [
       "<div>\n",
       "<style scoped>\n",
       "    .dataframe tbody tr th:only-of-type {\n",
       "        vertical-align: middle;\n",
       "    }\n",
       "\n",
       "    .dataframe tbody tr th {\n",
       "        vertical-align: top;\n",
       "    }\n",
       "\n",
       "    .dataframe thead th {\n",
       "        text-align: right;\n",
       "    }\n",
       "</style>\n",
       "<table border=\"1\" class=\"dataframe\">\n",
       "  <thead>\n",
       "    <tr style=\"text-align: right;\">\n",
       "      <th></th>\n",
       "      <th>S.No</th>\n",
       "      <th>District</th>\n",
       "      <th>Actual_Rainfall_in_South_West_Monsoon_June2018_to_September2018_in_mm</th>\n",
       "      <th>Normal_Rainfall_in_South_West_Monsoon_June2018_to_September2018_in_mm</th>\n",
       "      <th>Actual_Rainfall_in_North_East_Monsoon_October2018_to_December2018_in_mm</th>\n",
       "      <th>Normal_Rainfall_in_North_East_Monsoon_October2018_to_December2018_in_mm</th>\n",
       "      <th>Actual_Rainfall_in_Winter_Season_January2019_to_February2019_in_mm</th>\n",
       "      <th>Normal_Rainfall_in_Winter_Season_January2019_to_February2019_in_mm</th>\n",
       "      <th>Actual_Rainfall_in_Hot_Weather_Season_March2019_to_May2019_in_mm</th>\n",
       "      <th>Normal_Rainfall_in_Hot_Weather_Season_March2019_to_May2019_in_mm</th>\n",
       "      <th>...</th>\n",
       "      <th>Rabi_Yield</th>\n",
       "      <th>Rabi_Production</th>\n",
       "      <th>Summer_AreaBefore_bund_correction_factor</th>\n",
       "      <th>Summer_AreaAfter_bund_correction_factor</th>\n",
       "      <th>Summer_Yield</th>\n",
       "      <th>Summer_Production</th>\n",
       "      <th>All_Seasons_AreaBefore_bund_correction_factor</th>\n",
       "      <th>All_Seasons_AreaAfter_bund_correction_factor</th>\n",
       "      <th>All_Seasons_Yield</th>\n",
       "      <th>All_Seasons_Production</th>\n",
       "    </tr>\n",
       "  </thead>\n",
       "  <tbody>\n",
       "  </tbody>\n",
       "</table>\n",
       "<p>0 rows × 30 columns</p>\n",
       "</div>"
      ],
      "text/plain": [
       "Empty DataFrame\n",
       "Columns: [S.No, District, Actual_Rainfall_in_South_West_Monsoon_June2018_to_September2018_in_mm, Normal_Rainfall_in_South_West_Monsoon_June2018_to_September2018_in_mm, Actual_Rainfall_in_North_East_Monsoon_October2018_to_December2018_in_mm, Normal_Rainfall_in_North_East_Monsoon_October2018_to_December2018_in_mm, Actual_Rainfall_in_Winter_Season_January2019_to_February2019_in_mm, Normal_Rainfall_in_Winter_Season_January2019_to_February2019_in_mm, Actual_Rainfall_in_Hot_Weather_Season_March2019_to_May2019_in_mm, Normal_Rainfall_in_Hot_Weather_Season_March2019_to_May2019_in_mm, Total_Actual_Rainfall_June2018_to_May2019_in_mm, Total_Normal_Rainfall_June2018_to_May2019_in_mm, SlNo, District_Name, Kharif_AreaBefore_bund_correction_factor, Kharif_AreaAfter_bund_correction_factor, Kharif_Yield, Kharif_Production, Rabi_AreaBefore_bund_correction_factor, Rabi_AreaAfter_bund_correction_factor, Rabi_Yield, Rabi_Production, Summer_AreaBefore_bund_correction_factor, Summer_AreaAfter_bund_correction_factor, Summer_Yield, Summer_Production, All_Seasons_AreaBefore_bund_correction_factor, All_Seasons_AreaAfter_bund_correction_factor, All_Seasons_Yield, All_Seasons_Production]\n",
       "Index: []\n",
       "\n",
       "[0 rows x 30 columns]"
      ]
     },
     "metadata": {},
     "output_type": "display_data"
    }
   ],
   "source": [
    "print(\"Merged Data Sample:\")\n",
    "display(merged_df.head())"
   ]
  },
  {
   "cell_type": "markdown",
   "id": "3ea87882-72ad-4791-a893-5cc1bc93c8db",
   "metadata": {},
   "source": [
    "## Data Discovery:\n",
    "    Due to differences in state coverage, our rainfall dataset covers Tamil Nadu districts and the crop production dataset covers Karnataka districts. Therefore, direct merging is not possible. All analyses demonstrate Q&A for each state independently, a realistic scenario when using open government data.\n"
   ]
  },
  {
   "cell_type": "markdown",
   "id": "2fbfab83-862d-4e7e-85ca-158889a5096f",
   "metadata": {},
   "source": [
    "## Tamil Nadu Rainfall Analysis & Q&A"
   ]
  },
  {
   "cell_type": "markdown",
   "id": "96d7a7b5-b2eb-45f1-a49c-13bdfcbb2474",
   "metadata": {},
   "source": [
    "### Top 5 Wettest Districts"
   ]
  },
  {
   "cell_type": "code",
   "execution_count": 16,
   "id": "e3fb1782-711b-4603-8d54-c4462b8de0e5",
   "metadata": {},
   "outputs": [
    {
     "data": {
      "text/html": [
       "<div>\n",
       "<style scoped>\n",
       "    .dataframe tbody tr th:only-of-type {\n",
       "        vertical-align: middle;\n",
       "    }\n",
       "\n",
       "    .dataframe tbody tr th {\n",
       "        vertical-align: top;\n",
       "    }\n",
       "\n",
       "    .dataframe thead th {\n",
       "        text-align: right;\n",
       "    }\n",
       "</style>\n",
       "<table border=\"1\" class=\"dataframe\">\n",
       "  <thead>\n",
       "    <tr style=\"text-align: right;\">\n",
       "      <th></th>\n",
       "      <th>District</th>\n",
       "      <th>Total_Actual_Rainfall_June2018_to_May2019_in_mm</th>\n",
       "    </tr>\n",
       "  </thead>\n",
       "  <tbody>\n",
       "    <tr>\n",
       "      <th>29</th>\n",
       "      <td>The Nilgiris</td>\n",
       "      <td>1516.7</td>\n",
       "    </tr>\n",
       "    <tr>\n",
       "      <th>31</th>\n",
       "      <td>Kanniyakumari</td>\n",
       "      <td>1089.6</td>\n",
       "    </tr>\n",
       "    <tr>\n",
       "      <th>12</th>\n",
       "      <td>Coimbatore</td>\n",
       "      <td>1041.5</td>\n",
       "    </tr>\n",
       "    <tr>\n",
       "      <th>20</th>\n",
       "      <td>Nagapattinam</td>\n",
       "      <td>984.6</td>\n",
       "    </tr>\n",
       "    <tr>\n",
       "      <th>27</th>\n",
       "      <td>Tirunelveli</td>\n",
       "      <td>968.9</td>\n",
       "    </tr>\n",
       "  </tbody>\n",
       "</table>\n",
       "</div>"
      ],
      "text/plain": [
       "         District  Total_Actual_Rainfall_June2018_to_May2019_in_mm\n",
       "29   The Nilgiris                                           1516.7\n",
       "31  Kanniyakumari                                           1089.6\n",
       "12     Coimbatore                                           1041.5\n",
       "20   Nagapattinam                                            984.6\n",
       "27    Tirunelveli                                            968.9"
      ]
     },
     "execution_count": 16,
     "metadata": {},
     "output_type": "execute_result"
    }
   ],
   "source": [
    "rainfall_df.sort_values('Total_Actual_Rainfall_June2018_to_May2019_in_mm', ascending=False)[\n",
    "    ['District', 'Total_Actual_Rainfall_June2018_to_May2019_in_mm']\n",
    "].head(5)\n"
   ]
  },
  {
   "cell_type": "markdown",
   "id": "69538be2-ebc0-4a72-9b81-17e1bfe12795",
   "metadata": {},
   "source": [
    "##  Season Breakdown for a District"
   ]
  },
  {
   "cell_type": "code",
   "execution_count": 17,
   "id": "9e3df160-7636-4a75-afda-d69f3a4094d2",
   "metadata": {},
   "outputs": [
    {
     "data": {
      "text/html": [
       "<div>\n",
       "<style scoped>\n",
       "    .dataframe tbody tr th:only-of-type {\n",
       "        vertical-align: middle;\n",
       "    }\n",
       "\n",
       "    .dataframe tbody tr th {\n",
       "        vertical-align: top;\n",
       "    }\n",
       "\n",
       "    .dataframe thead th {\n",
       "        text-align: right;\n",
       "    }\n",
       "</style>\n",
       "<table border=\"1\" class=\"dataframe\">\n",
       "  <thead>\n",
       "    <tr style=\"text-align: right;\">\n",
       "      <th></th>\n",
       "      <th>0</th>\n",
       "    </tr>\n",
       "  </thead>\n",
       "  <tbody>\n",
       "    <tr>\n",
       "      <th>Actual_Rainfall_in_South_West_Monsoon_June2018_to_September2018_in_mm</th>\n",
       "      <td>395.3</td>\n",
       "    </tr>\n",
       "    <tr>\n",
       "      <th>Normal_Rainfall_in_South_West_Monsoon_June2018_to_September2018_in_mm</th>\n",
       "      <td>439.1</td>\n",
       "    </tr>\n",
       "    <tr>\n",
       "      <th>Actual_Rainfall_in_North_East_Monsoon_October2018_to_December2018_in_mm</th>\n",
       "      <td>352.9</td>\n",
       "    </tr>\n",
       "    <tr>\n",
       "      <th>Normal_Rainfall_in_North_East_Monsoon_October2018_to_December2018_in_mm</th>\n",
       "      <td>789.9</td>\n",
       "    </tr>\n",
       "    <tr>\n",
       "      <th>Actual_Rainfall_in_Winter_Season_January2019_to_February2019_in_mm</th>\n",
       "      <td>1.6</td>\n",
       "    </tr>\n",
       "    <tr>\n",
       "      <th>Normal_Rainfall_in_Winter_Season_January2019_to_February2019_in_mm</th>\n",
       "      <td>36.7</td>\n",
       "    </tr>\n",
       "    <tr>\n",
       "      <th>Actual_Rainfall_in_Hot_Weather_Season_March2019_to_May2019_in_mm</th>\n",
       "      <td>0.0</td>\n",
       "    </tr>\n",
       "    <tr>\n",
       "      <th>Normal_Rainfall_in_Hot_Weather_Season_March2019_to_May2019_in_mm</th>\n",
       "      <td>58.5</td>\n",
       "    </tr>\n",
       "    <tr>\n",
       "      <th>Total_Actual_Rainfall_June2018_to_May2019_in_mm</th>\n",
       "      <td>749.8</td>\n",
       "    </tr>\n",
       "    <tr>\n",
       "      <th>Total_Normal_Rainfall_June2018_to_May2019_in_mm</th>\n",
       "      <td>1324.2</td>\n",
       "    </tr>\n",
       "  </tbody>\n",
       "</table>\n",
       "</div>"
      ],
      "text/plain": [
       "                                                         0\n",
       "Actual_Rainfall_in_South_West_Monsoon_June2018_...   395.3\n",
       "Normal_Rainfall_in_South_West_Monsoon_June2018_...   439.1\n",
       "Actual_Rainfall_in_North_East_Monsoon_October20...   352.9\n",
       "Normal_Rainfall_in_North_East_Monsoon_October20...   789.9\n",
       "Actual_Rainfall_in_Winter_Season_January2019_to...     1.6\n",
       "Normal_Rainfall_in_Winter_Season_January2019_to...    36.7\n",
       "Actual_Rainfall_in_Hot_Weather_Season_March2019...     0.0\n",
       "Normal_Rainfall_in_Hot_Weather_Season_March2019...    58.5\n",
       "Total_Actual_Rainfall_June2018_to_May2019_in_mm      749.8\n",
       "Total_Normal_Rainfall_June2018_to_May2019_in_mm     1324.2"
      ]
     },
     "execution_count": 17,
     "metadata": {},
     "output_type": "execute_result"
    }
   ],
   "source": [
    "def rainfall_breakdown(district):\n",
    "    row = rainfall_df[rainfall_df['District'] == district]\n",
    "    if not row.empty:\n",
    "        cols = [c for c in row.columns if 'Actual_Rainfall' in c or 'Normal_Rainfall' in c]\n",
    "        return row[cols].T\n",
    "    else:\n",
    "        return f\"{district} not found.\"\n",
    "rainfall_breakdown('Chennai')"
   ]
  },
  {
   "cell_type": "markdown",
   "id": "e2f414d8-17d4-4815-859b-92bcf14c5776",
   "metadata": {},
   "source": [
    "## Barplot of Rainfall"
   ]
  },
  {
   "cell_type": "code",
   "execution_count": 18,
   "id": "3a0d4bbc-897f-4180-8712-ee800fb14a61",
   "metadata": {},
   "outputs": [
    {
     "data": {
      "image/png": "[encoded data removed]",
      "text/plain": [
       "<Figure size 1000x500 with 1 Axes>"
      ]
     },
     "metadata": {},
     "output_type": "display_data"
    }
   ],
   "source": [
    "plt.figure(figsize=(10,5))\n",
    "order = rainfall_df.sort_values('Total_Actual_Rainfall_June2018_to_May2019_in_mm', ascending=False)['District']\n",
    "sns.barplot(\n",
    "    x='District', y='Total_Actual_Rainfall_June2018_to_May2019_in_mm',\n",
    "    data=rainfall_df, order=order\n",
    ")\n",
    "plt.xticks(rotation=90)\n",
    "plt.title('Total Rainfall by District (Tamil Nadu)')\n",
    "plt.show()"
   ]
  },
  {
   "cell_type": "markdown",
   "id": "76e8e70a-4280-4a2f-ba72-f3a648aaeafe",
   "metadata": {},
   "source": [
    "## Karnataka Crop Production Analysis & Q&A"
   ]
  },
  {
   "cell_type": "markdown",
   "id": "3c190280-2bb6-4e26-9cec-9a2995ba9838",
   "metadata": {},
   "source": [
    "### Top 5 Districts by All Seasons Production"
   ]
  },
  {
   "cell_type": "code",
   "execution_count": 19,
   "id": "903f303d-e7f0-41da-8791-f7a78b966691",
   "metadata": {},
   "outputs": [
    {
     "data": {
      "text/html": [
       "<div>\n",
       "<style scoped>\n",
       "    .dataframe tbody tr th:only-of-type {\n",
       "        vertical-align: middle;\n",
       "    }\n",
       "\n",
       "    .dataframe tbody tr th {\n",
       "        vertical-align: top;\n",
       "    }\n",
       "\n",
       "    .dataframe thead th {\n",
       "        text-align: right;\n",
       "    }\n",
       "</style>\n",
       "<table border=\"1\" class=\"dataframe\">\n",
       "  <thead>\n",
       "    <tr style=\"text-align: right;\">\n",
       "      <th></th>\n",
       "      <th>District_Name</th>\n",
       "      <th>All_Seasons_Production</th>\n",
       "    </tr>\n",
       "  </thead>\n",
       "  <tbody>\n",
       "    <tr>\n",
       "      <th>30</th>\n",
       "      <td>State Total</td>\n",
       "      <td>4499036</td>\n",
       "    </tr>\n",
       "    <tr>\n",
       "      <th>23</th>\n",
       "      <td>Raichur</td>\n",
       "      <td>1049414</td>\n",
       "    </tr>\n",
       "    <tr>\n",
       "      <th>4</th>\n",
       "      <td>Ballari</td>\n",
       "      <td>664986</td>\n",
       "    </tr>\n",
       "    <tr>\n",
       "      <th>29</th>\n",
       "      <td>Yadgir</td>\n",
       "      <td>432170</td>\n",
       "    </tr>\n",
       "    <tr>\n",
       "      <th>12</th>\n",
       "      <td>Davanagere</td>\n",
       "      <td>430798</td>\n",
       "    </tr>\n",
       "  </tbody>\n",
       "</table>\n",
       "</div>"
      ],
      "text/plain": [
       "   District_Name  All_Seasons_Production\n",
       "30   State Total                 4499036\n",
       "23       Raichur                 1049414\n",
       "4        Ballari                  664986\n",
       "29        Yadgir                  432170\n",
       "12    Davanagere                  430798"
      ]
     },
     "execution_count": 19,
     "metadata": {},
     "output_type": "execute_result"
    }
   ],
   "source": [
    "crop_df.sort_values('All_Seasons_Production', ascending=False)[['District_Name', 'All_Seasons_Production']].head(5)"
   ]
  },
  {
   "cell_type": "markdown",
   "id": "f4a06021-e2e7-4462-bd4c-da8bc824b649",
   "metadata": {},
   "source": [
    "## Yield & Season"
   ]
  },
  {
   "cell_type": "code",
   "execution_count": 20,
   "id": "fe74b60e-3328-4bba-899f-8f664b0b04ff",
   "metadata": {},
   "outputs": [
    {
     "data": {
      "text/html": [
       "<div>\n",
       "<style scoped>\n",
       "    .dataframe tbody tr th:only-of-type {\n",
       "        vertical-align: middle;\n",
       "    }\n",
       "\n",
       "    .dataframe tbody tr th {\n",
       "        vertical-align: top;\n",
       "    }\n",
       "\n",
       "    .dataframe thead th {\n",
       "        text-align: right;\n",
       "    }\n",
       "</style>\n",
       "<table border=\"1\" class=\"dataframe\">\n",
       "  <thead>\n",
       "    <tr style=\"text-align: right;\">\n",
       "      <th></th>\n",
       "      <th>3</th>\n",
       "    </tr>\n",
       "  </thead>\n",
       "  <tbody>\n",
       "    <tr>\n",
       "      <th>Kharif_Yield</th>\n",
       "      <td>3097</td>\n",
       "    </tr>\n",
       "    <tr>\n",
       "      <th>Kharif_Production</th>\n",
       "      <td>173302</td>\n",
       "    </tr>\n",
       "    <tr>\n",
       "      <th>Rabi_Yield</th>\n",
       "      <td>0</td>\n",
       "    </tr>\n",
       "    <tr>\n",
       "      <th>Rabi_Production</th>\n",
       "      <td>0</td>\n",
       "    </tr>\n",
       "    <tr>\n",
       "      <th>Summer_Yield</th>\n",
       "      <td>3079</td>\n",
       "    </tr>\n",
       "    <tr>\n",
       "      <th>Summer_Production</th>\n",
       "      <td>522</td>\n",
       "    </tr>\n",
       "    <tr>\n",
       "      <th>All_Seasons_Yield</th>\n",
       "      <td>3097</td>\n",
       "    </tr>\n",
       "    <tr>\n",
       "      <th>All_Seasons_Production</th>\n",
       "      <td>173824</td>\n",
       "    </tr>\n",
       "  </tbody>\n",
       "</table>\n",
       "</div>"
      ],
      "text/plain": [
       "                             3\n",
       "Kharif_Yield              3097\n",
       "Kharif_Production       173302\n",
       "Rabi_Yield                   0\n",
       "Rabi_Production              0\n",
       "Summer_Yield              3079\n",
       "Summer_Production          522\n",
       "All_Seasons_Yield         3097\n",
       "All_Seasons_Production  173824"
      ]
     },
     "execution_count": 20,
     "metadata": {},
     "output_type": "execute_result"
    }
   ],
   "source": [
    "def crop_yield_breakdown(district):\n",
    "    row = crop_df[crop_df['District_Name'] == district]\n",
    "    if not row.empty:\n",
    "        cols = [c for c in row.columns if 'Yield' in c or 'Production' in c]\n",
    "        return row[cols].T\n",
    "    else:\n",
    "        return f\"{district} not found.\"\n",
    "crop_yield_breakdown('Belagavi')"
   ]
  },
  {
   "cell_type": "markdown",
   "id": "167fc75b-f917-4902-bdb3-8e024b691481",
   "metadata": {},
   "source": [
    "## Barplot of Production"
   ]
  },
  {
   "cell_type": "code",
   "execution_count": 21,
   "id": "8839142e-164f-4703-8279-b358f0e0e52c",
   "metadata": {},
   "outputs": [
    {
     "data": {
      "image/png": "[encoded data removed]",
      "text/plain": [
       "<Figure size 1000x500 with 1 Axes>"
      ]
     },
     "metadata": {},
     "output_type": "display_data"
    }
   ],
   "source": [
    "plt.figure(figsize=(10,5))\n",
    "order = crop_df.sort_values('All_Seasons_Production', ascending=False)['District_Name']\n",
    "sns.barplot(\n",
    "    x='District_Name', y='All_Seasons_Production',\n",
    "    data=crop_df, order=order\n",
    ")\n",
    "plt.xticks(rotation=90)\n",
    "plt.title('All Seasons Crop Production by District (Karnataka)')\n",
    "plt.show()"
   ]
  },
  {
   "cell_type": "markdown",
   "id": "e2588035-d7c5-4d3c-8f77-5b320d696f88",
   "metadata": {},
   "source": [
    "## Q&A Functions"
   ]
  },
  {
   "cell_type": "code",
   "execution_count": 25,
   "id": "97f31df1-95fc-4ce6-aa70-83e95a4adca6",
   "metadata": {},
   "outputs": [],
   "source": [
    "def rainfall_qa(q):\n",
    "    q = q.lower()\n",
    "    if 'wettest' in q:\n",
    "        return rainfall_df.sort_values('Total_Actual_Rainfall_June2018_to_May2019_in_mm', ascending=False)\\\n",
    "                 [['District', 'Total_Actual_Rainfall_June2018_to_May2019_in_mm']].head(3)\n",
    "    elif 'driest' in q:\n",
    "        return rainfall_df.sort_values('Total_Actual_Rainfall_June2018_to_May2019_in_mm')\\\n",
    "                 [['District', 'Total_Actual_Rainfall_June2018_to_May2019_in_mm']].head(3)\n",
    "    elif 'average rainfall' in q:\n",
    "        avg = rainfall_df['Total_Actual_Rainfall_June2018_to_May2019_in_mm'].mean()\n",
    "        return f\"Average rainfall in Tamil Nadu districts: {avg:.2f} mm\"\n",
    "    elif 'district with above average rainfall' in q:\n",
    "        avg = rainfall_df['Total_Actual_Rainfall_June2018_to_May2019_in_mm'].mean()\n",
    "        return rainfall_df[rainfall_df['Total_Actual_Rainfall_June2018_to_May2019_in_mm'] > avg]['District']\n",
    "    elif 'total rainfall' in q and 'in' in q:\n",
    "        # Example: total rainfall in chennai\n",
    "        district = q.split('in')[-1].strip().title()\n",
    "        row = rainfall_df[rainfall_df['District'] == district]\n",
    "        if not row.empty:\n",
    "            return f\"Total rainfall in {district}: {float(row['Total_Actual_Rainfall_June2018_to_May2019_in_mm']):.2f} mm\"\n",
    "        else:\n",
    "            return f\"{district} not found.\"\n",
    "    elif 'seasonal rainfall' in q:\n",
    "        out = {}\n",
    "        for season in ['South_West_Monsoon', 'North_East_Monsoon', 'Winter_Season', 'Hot_Weather_Season']:\n",
    "            col = [c for c in rainfall_df.columns if f'Actual_Rainfall_in_{season}' in c]\n",
    "            out[season] = rainfall_df[col[0]].mean() if col else None\n",
    "        return out\n",
    "    else:\n",
    "        return \"Sample queries: 'wettest districts', 'driest districts', 'average rainfall', 'district with above average rainfall', 'total rainfall in Chennai', 'seasonal rainfall'\""
   ]
  },
  {
   "cell_type": "code",
   "execution_count": 26,
   "id": "4c08b5a1-5af7-491a-9ea6-cff39746ff66",
   "metadata": {},
   "outputs": [],
   "source": [
    "def crop_qa(q):\n",
    "    q = q.lower()\n",
    "    if 'top' in q:\n",
    "        n = 5\n",
    "        m = re.search(r'top (\\d+)', q)\n",
    "        if m: n = int(m.group(1))\n",
    "        return crop_df.sort_values('All_Seasons_Production', ascending=False)[['District_Name', 'All_Seasons_Production']].head(n)\n",
    "    elif 'lowest' in q:\n",
    "        return crop_df.sort_values('All_Seasons_Production')[['District_Name', 'All_Seasons_Production']].head(3)\n",
    "    elif 'average yield' in q:\n",
    "        avg = crop_df['All_Seasons_Yield'].mean()\n",
    "        return f\"Average yield (all seasons): {avg:.2f} kg/ha\"\n",
    "    elif 'districts with above average yield' in q:\n",
    "        avg = crop_df['All_Seasons_Yield'].mean()\n",
    "        return crop_df[crop_df['All_Seasons_Yield'] > avg]['District_Name']\n",
    "    elif 'yield in' in q:\n",
    "        # Example: yield in Bagalkote\n",
    "        district = q.split('in')[-1].strip().title()\n",
    "        row = crop_df[crop_df['District_Name'] == district]\n",
    "        if not row.empty:\n",
    "            return f\"All-seasons yield in {district}: {float(row['All_Seasons_Yield']):.2f} kg/ha\"\n",
    "        else:\n",
    "            return f\"{district} not found.\"\n",
    "    elif 'highest' in q and 'yield' in q:\n",
    "        idx = crop_df['All_Seasons_Yield'].idxmax()\n",
    "        name = crop_df.loc[idx, 'District_Name']\n",
    "        val = crop_df.loc[idx, 'All_Seasons_Yield']\n",
    "        return f\"District with highest all-seasons yield: {name} ({val:.2f} kg/ha)\"\n",
    "    elif 'lowest' in q and 'yield' in q:\n",
    "        idx = crop_df['All_Seasons_Yield'].idxmin()\n",
    "        name = crop_df.loc[idx, 'District_Name']\n",
    "        val = crop_df.loc[idx, 'All_Seasons_Yield']\n",
    "        return f\"District with lowest all-seasons yield: {name} ({val:.2f} kg/ha)\"\n",
    "    else:\n",
    "        return \"Sample queries: 'top districts', 'lowest production districts', 'average yield', 'districts with above average yield', 'yield in Bagalkote', 'highest yield district'\"\n"
   ]
  },
  {
   "cell_type": "code",
   "execution_count": 34,
   "id": "dc57f3b5-c62c-47bc-b2a7-2ec8d6e0687b",
   "metadata": {},
   "outputs": [
    {
     "name": "stdout",
     "output_type": "stream",
     "text": [
      "Rainfall Q&A Examples:\n",
      "==================================================\n",
      "\n",
      "\n",
      "1. Wettest districts in Tamil Nadu:\n"
     ]
    },
    {
     "data": {
      "text/html": [
       "<div>\n",
       "<style scoped>\n",
       "    .dataframe tbody tr th:only-of-type {\n",
       "        vertical-align: middle;\n",
       "    }\n",
       "\n",
       "    .dataframe tbody tr th {\n",
       "        vertical-align: top;\n",
       "    }\n",
       "\n",
       "    .dataframe thead th {\n",
       "        text-align: right;\n",
       "    }\n",
       "</style>\n",
       "<table border=\"1\" class=\"dataframe\">\n",
       "  <thead>\n",
       "    <tr style=\"text-align: right;\">\n",
       "      <th></th>\n",
       "      <th>District</th>\n",
       "      <th>Total_Actual_Rainfall_June2018_to_May2019_in_mm</th>\n",
       "    </tr>\n",
       "  </thead>\n",
       "  <tbody>\n",
       "    <tr>\n",
       "      <th>29</th>\n",
       "      <td>The Nilgiris</td>\n",
       "      <td>1516.7</td>\n",
       "    </tr>\n",
       "    <tr>\n",
       "      <th>31</th>\n",
       "      <td>Kanniyakumari</td>\n",
       "      <td>1089.6</td>\n",
       "    </tr>\n",
       "    <tr>\n",
       "      <th>12</th>\n",
       "      <td>Coimbatore</td>\n",
       "      <td>1041.5</td>\n",
       "    </tr>\n",
       "  </tbody>\n",
       "</table>\n",
       "</div>"
      ],
      "text/plain": [
       "         District  Total_Actual_Rainfall_June2018_to_May2019_in_mm\n",
       "29   The Nilgiris                                           1516.7\n",
       "31  Kanniyakumari                                           1089.6\n",
       "12     Coimbatore                                           1041.5"
      ]
     },
     "metadata": {},
     "output_type": "display_data"
    },
    {
     "name": "stdout",
     "output_type": "stream",
     "text": [
      "**************************************************\n",
      "\n",
      "2. Average rainfall across Tamil Nadu districts:\n",
      "Average rainfall in Tamil Nadu districts: 698.78 mm\n",
      "**************************************************\n",
      "\n",
      "3. Total rainfall in Chennai district:\n",
      "Total rainfall in Chennai: 749.80 mm\n",
      "**************************************************\n",
      "\n",
      "4. Mean actual rainfall for each main season (South West, North East, Winter, Hot Weather Monsoon):\n",
      "South West Monsoon: 293.18 mm\n",
      "North East Monsoon: 351.76 mm\n",
      "Winter Season: 4.57 mm\n",
      "Hot Weather Season: 49.27 mm\n"
     ]
    },
    {
     "name": "stderr",
     "output_type": "stream",
     "text": [
      "C:\\Users\\SUJATA SINHABABU\\AppData\\Local\\Temp\\ipykernel_6308\\504627997.py:20: FutureWarning: Calling float on a single element Series is deprecated and will raise a TypeError in the future. Use float(ser.iloc[0]) instead\n",
      "  return f\"Total rainfall in {district}: {float(row['Total_Actual_Rainfall_June2018_to_May2019_in_mm']):.2f} mm\"\n"
     ]
    }
   ],
   "source": [
    "print(\"Rainfall Q&A Examples:\")\n",
    "print(\"=\"*50)\n",
    "\n",
    "print(\"\\n\\n1. Wettest districts in Tamil Nadu:\")\n",
    "wettest = rainfall_qa(\"wettest districts\")\n",
    "display(wettest)\n",
    "print(\"*\"*50)\n",
    "\n",
    "print(\"\\n2. Average rainfall across Tamil Nadu districts:\")\n",
    "avg_rain = rainfall_qa(\"average rainfall\")\n",
    "print(avg_rain)\n",
    "print(\"*\"*50)\n",
    "\n",
    "print(\"\\n3. Total rainfall in Chennai district:\")\n",
    "chennai_rf = rainfall_qa(\"total rainfall in chennai\")\n",
    "print(chennai_rf)\n",
    "print(\"*\"*50)\n",
    "\n",
    "print(\"\\n4. Mean actual rainfall for each main season (South West, North East, Winter, Hot Weather Monsoon):\")\n",
    "seasonal_rf = rainfall_qa(\"seasonal rainfall\")\n",
    "for k, v in seasonal_rf.items():\n",
    "    print(f\"{k.replace('_', ' ')}: {v:.2f} mm\")\n"
   ]
  },
  {
   "cell_type": "code",
   "execution_count": 35,
   "id": "2b7e10e2-73f5-4bca-b706-92ace5045953",
   "metadata": {},
   "outputs": [
    {
     "name": "stdout",
     "output_type": "stream",
     "text": [
      "Crop Production Q&A Examples:\n",
      "\n",
      "==================================================\n",
      "\n",
      "1. Top 3 districts by crop production in Karnataka:\n"
     ]
    },
    {
     "data": {
      "text/html": [
       "<div>\n",
       "<style scoped>\n",
       "    .dataframe tbody tr th:only-of-type {\n",
       "        vertical-align: middle;\n",
       "    }\n",
       "\n",
       "    .dataframe tbody tr th {\n",
       "        vertical-align: top;\n",
       "    }\n",
       "\n",
       "    .dataframe thead th {\n",
       "        text-align: right;\n",
       "    }\n",
       "</style>\n",
       "<table border=\"1\" class=\"dataframe\">\n",
       "  <thead>\n",
       "    <tr style=\"text-align: right;\">\n",
       "      <th></th>\n",
       "      <th>District_Name</th>\n",
       "      <th>All_Seasons_Production</th>\n",
       "    </tr>\n",
       "  </thead>\n",
       "  <tbody>\n",
       "    <tr>\n",
       "      <th>30</th>\n",
       "      <td>State Total</td>\n",
       "      <td>4499036</td>\n",
       "    </tr>\n",
       "    <tr>\n",
       "      <th>23</th>\n",
       "      <td>Raichur</td>\n",
       "      <td>1049414</td>\n",
       "    </tr>\n",
       "    <tr>\n",
       "      <th>4</th>\n",
       "      <td>Ballari</td>\n",
       "      <td>664986</td>\n",
       "    </tr>\n",
       "  </tbody>\n",
       "</table>\n",
       "</div>"
      ],
      "text/plain": [
       "   District_Name  All_Seasons_Production\n",
       "30   State Total                 4499036\n",
       "23       Raichur                 1049414\n",
       "4        Ballari                  664986"
      ]
     },
     "metadata": {},
     "output_type": "display_data"
    },
    {
     "name": "stdout",
     "output_type": "stream",
     "text": [
      "**************************************************\n",
      "\n",
      "2. Lowest production districts in Karnataka:\n"
     ]
    },
    {
     "data": {
      "text/html": [
       "<div>\n",
       "<style scoped>\n",
       "    .dataframe tbody tr th:only-of-type {\n",
       "        vertical-align: middle;\n",
       "    }\n",
       "\n",
       "    .dataframe tbody tr th {\n",
       "        vertical-align: top;\n",
       "    }\n",
       "\n",
       "    .dataframe thead th {\n",
       "        text-align: right;\n",
       "    }\n",
       "</style>\n",
       "<table border=\"1\" class=\"dataframe\">\n",
       "  <thead>\n",
       "    <tr style=\"text-align: right;\">\n",
       "      <th></th>\n",
       "      <th>District_Name</th>\n",
       "      <th>All_Seasons_Production</th>\n",
       "    </tr>\n",
       "  </thead>\n",
       "  <tbody>\n",
       "    <tr>\n",
       "      <th>0</th>\n",
       "      <td>Bagalkote</td>\n",
       "      <td>104</td>\n",
       "    </tr>\n",
       "    <tr>\n",
       "      <th>2</th>\n",
       "      <td>Bengaluru - Rural</td>\n",
       "      <td>451</td>\n",
       "    </tr>\n",
       "    <tr>\n",
       "      <th>6</th>\n",
       "      <td>Vijayapura</td>\n",
       "      <td>491</td>\n",
       "    </tr>\n",
       "  </tbody>\n",
       "</table>\n",
       "</div>"
      ],
      "text/plain": [
       "       District_Name  All_Seasons_Production\n",
       "0          Bagalkote                     104\n",
       "2  Bengaluru - Rural                     451\n",
       "6         Vijayapura                     491"
      ]
     },
     "metadata": {},
     "output_type": "display_data"
    },
    {
     "name": "stdout",
     "output_type": "stream",
     "text": [
      "**************************************************\n",
      "\n",
      "3. Average crop yield across Karnataka districts:\n",
      "Average yield (all seasons): 2738.45 kg/ha\n",
      "**************************************************\n",
      "\n",
      "4. Districts with above-average crop yield in Karnataka:\n",
      "Average yield: 2738.45 kg/ha\n",
      "Districts:\n",
      " - Bagalkote\n",
      " - Bengaluru - Urban\n",
      " - Belagavi\n",
      " - Ballari\n",
      " - Vijayapura\n",
      " - Chickballapur\n",
      " - Dakshina Kannada\n",
      " - Davanagere\n",
      " - Kalburgi\n",
      " - Koppal\n",
      " - Mandya\n",
      " - Mysuru\n",
      " - Raichur\n",
      " - Ramanagaram\n",
      " - Udupi\n",
      " - Yadgir\n",
      " - State Total\n",
      "**************************************************\n",
      "\n",
      "5. All-seasons yield in Bagalkote district:\n",
      "All-seasons yield in Bagalkote: 2798.00 kg/ha\n",
      "**************************************************\n",
      "\n",
      "6. District with highest all-seasons crop yield in Karnataka:\n",
      "Kalburgi: 3795.00 kg/ha\n",
      "**************************************************\n",
      "\n",
      "7. District with lowest all-seasons crop yield in Karnataka:\n",
      "Dharwad: 1269.00 kg/ha\n"
     ]
    }
   ],
   "source": [
    "print(\"Crop Production Q&A Examples:\\n\")\n",
    "print(\"=\"*50)\n",
    "\n",
    "print(\"\\n1. Top 3 districts by crop production in Karnataka:\")\n",
    "display(crop_df.sort_values('All_Seasons_Production', ascending=False)[['District_Name', 'All_Seasons_Production']].head(3))\n",
    "print(\"*\"*50)\n",
    "\n",
    "print(\"\\n2. Lowest production districts in Karnataka:\")\n",
    "display(crop_df.sort_values('All_Seasons_Production')[['District_Name', 'All_Seasons_Production']].head(3))\n",
    "print(\"*\"*50)\n",
    "\n",
    "print(\"\\n3. Average crop yield across Karnataka districts:\")\n",
    "avg = crop_df['All_Seasons_Yield'].mean()\n",
    "print(f\"Average yield (all seasons): {avg:.2f} kg/ha\")\n",
    "print(\"*\"*50)\n",
    "\n",
    "print(\"\\n4. Districts with above-average crop yield in Karnataka:\")\n",
    "above_avg = crop_df[crop_df['All_Seasons_Yield'] > avg]['District_Name']\n",
    "print(f\"Average yield: {avg:.2f} kg/ha\")\n",
    "print('Districts:')\n",
    "for d in above_avg:\n",
    "    print(f\" - {d}\")\n",
    "print(\"*\"*50)\n",
    "\n",
    "print(\"\\n5. All-seasons yield in Bagalkote district:\")\n",
    "row = crop_df[crop_df['District_Name'] == 'Bagalkote']\n",
    "if not row.empty:\n",
    "    print(f\"All-seasons yield in Bagalkote: {float(row['All_Seasons_Yield'].iloc[0]):.2f} kg/ha\")\n",
    "else:\n",
    "    print(\"Bagalkote not found.\")\n",
    "print(\"*\"*50)\n",
    "\n",
    "print(\"\\n6. District with highest all-seasons crop yield in Karnataka:\")\n",
    "idx = crop_df['All_Seasons_Yield'].idxmax()\n",
    "name = crop_df.loc[idx, 'District_Name']\n",
    "val = crop_df.loc[idx, 'All_Seasons_Yield']\n",
    "print(f\"{name}: {val:.2f} kg/ha\")\n",
    "print(\"*\"*50)\n",
    "\n",
    "print(\"\\n7. District with lowest all-seasons crop yield in Karnataka:\")\n",
    "idx = crop_df['All_Seasons_Yield'].idxmin()\n",
    "name = crop_df.loc[idx, 'District_Name']\n",
    "val = crop_df.loc[idx, 'All_Seasons_Yield']\n",
    "print(f\"{name}: {val:.2f} kg/ha\")"
   ]
  },
  {
   "cell_type": "markdown",
   "id": "dc7a28fa-1c66-4e04-b79e-5239ff6e3909",
   "metadata": {},
   "source": [
    "# Data Project Acknowledgement\n",
    "    In open government data projects, data (districts, units, seasons, years) rarely lines up perfectly. My system makes these mismatches clear, and the code is ready to scale as soon as harmonized data is available."
   ]
  },
  {
   "cell_type": "markdown",
   "id": "167e468e-664b-472d-8b02-ed46c6708c6a",
   "metadata": {},
   "source": [
    "# Conclusion\n",
    "    Project Samarth supports flexible, natural-language Q&A and analytics.\n",
    "    Outputs are always source-backed and traceable.\n",
    "    Design handles real-world data issues and is ready for vertical/horizontal scale-up as better data is sourced in the future."
   ]
  },
  {
   "cell_type": "code",
   "execution_count": null,
   "id": "e1058e15-72c5-427f-891d-e3fa9f8a575f",
   "metadata": {},
   "outputs": [],
   "source": []
  }
 ],
 "metadata": {
  "kernelspec": {
   "display_name": "Python 3 (ipykernel)",
   "language": "python",
   "name": "python3"
  },
  "language_info": {
   "codemirror_mode": {
    "name": "ipython",
    "version": 3
   },
   "file_extension": ".py",
   "mimetype": "text/x-python",
   "name": "python",
   "nbconvert_exporter": "python",
   "pygments_lexer": "ipython3",
   "version": "3.13.5"
  }
 },
 "nbformat": 4,
 "nbformat_minor": 5
}
